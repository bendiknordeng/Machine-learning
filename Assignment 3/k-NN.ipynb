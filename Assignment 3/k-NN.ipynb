{
 "cells": [
  {
   "cell_type": "code",
   "execution_count": 1,
   "metadata": {},
   "outputs": [],
   "source": [
    "import pandas as pd\n",
    "import numpy as np\n",
    "import math\n",
    "from sklearn.model_selection import train_test_split"
   ]
  },
  {
   "cell_type": "code",
   "execution_count": 2,
   "metadata": {},
   "outputs": [],
   "source": [
    "def distance(instance1, instance2, length):\n",
    "    d = 0\n",
    "    for i in range(length):\n",
    "        d += (instance1[i]-instance2[i])**2\n",
    "    return math.sqrt(d)\n",
    "\n",
    "def get_neighbours(instance, X_train, y_train, k):\n",
    "    distances = []\n",
    "    for i in range(len(X_train)):\n",
    "        d = distance(instance,X_train[i],len(X_train[i]))\n",
    "        distances.append(d)\n",
    "    idx = np.argsort(distances)[1:k+1]\n",
    "    neighbours = []\n",
    "    classes = []\n",
    "    for index in idx:\n",
    "        classes.append(y_train[index])\n",
    "    return idx, classes\n",
    "\n",
    "def get_votes(neighbours, classes):\n",
    "    votes = list(np.zeros(classes))\n",
    "    for i in neighbours:\n",
    "        votes[i] += 1\n",
    "    return votes.index(max(votes))\n",
    "\n",
    "def regression(neighbours):\n",
    "    return np.mean(neighbours)\n",
    "\n",
    "def predict(X_test, X_train, y_train, k, alg):\n",
    "    predictions = []\n",
    "    for i in X_test:\n",
    "        idx, classes = get_neighbours(i, X_train, y_train, k)\n",
    "        if alg=='c':\n",
    "            prediction = get_votes(classes, len(set(y_train)))\n",
    "        if alg=='r':\n",
    "            prediction = regression(classes)\n",
    "        predictions.append(prediction)\n",
    "    return predictions, idx\n",
    "\n",
    "def get_accuracy(predictions, y_test, alg):\n",
    "    if alg=='c':\n",
    "        correct = 0\n",
    "        for i in range(len(predictions)):\n",
    "            if predictions[i] == y_test[i]:\n",
    "                correct += 1\n",
    "        print('Accuracy:',float(correct/len(predictions)))\n",
    "    if alg=='r':\n",
    "        absolute_error = 0\n",
    "        square_error = 0\n",
    "        for i in range(len(predictions)):\n",
    "            absolute_error += abs(predictions[i]-y_test[i])\n",
    "            square_error += (predictions[i]-y_test[i])**2\n",
    "        print('MAE:', absolute_error/len(predictions))\n",
    "        print('MSE:', square_error/len(predictions))\n",
    "\n",
    "def knn(alg):\n",
    "    if alg=='c':\n",
    "        df = pd.read_csv('data/knn_classification.csv')\n",
    "    if alg=='r':\n",
    "        df = pd.read_csv('data/knn_regression.csv')\n",
    "    k = 10\n",
    "    y = df['y']\n",
    "    X = df.drop(['y'], axis=1)\n",
    "    rs = 10\n",
    "\n",
    "    X_train, X_test, y_train, y_test = train_test_split(X.values, y.values, test_size=0.33, random_state=rs)\n",
    "\n",
    "    predictions, idx = predict(X_test, X_train, y_train, k, alg)\n",
    "    get_accuracy(predictions, y_test, alg)\n",
    "\n",
    "    task_instance = [list(X.iloc[123])]\n",
    "    prediction, idx = predict(task_instance, X_train, y_train, k, alg)\n",
    "    print(\"Instance 124:\", task_instance[0])\n",
    "    print(\"Actual class:\", y.iloc[123])\n",
    "    print(\"Predicted class:\", prediction)\n",
    "    print(\"Neighbours:\")\n",
    "    for index in idx:\n",
    "        print(X_train[index], \"Class:\", y_train[index])"
   ]
  },
  {
   "cell_type": "markdown",
   "metadata": {},
   "source": [
    "## k-NN classification"
   ]
  },
  {
   "cell_type": "code",
   "execution_count": 3,
   "metadata": {},
   "outputs": [
    {
     "name": "stdout",
     "output_type": "stream",
     "text": [
      "Accuracy: 1.0\n",
      "Instance 124: [6.3, 2.7, 4.9, 1.8]\n",
      "Actual class: 2\n",
      "Predicted class: [2]\n",
      "Neighbours:\n",
      "[6.1 3.  4.9 1.8] Class: 2\n",
      "[6.3 2.8 5.1 1.5] Class: 2\n",
      "[6.  2.7 5.1 1.6] Class: 1\n",
      "[6.  3.  4.8 1.8] Class: 2\n",
      "[6.5 2.8 4.6 1.5] Class: 1\n",
      "[6.5 3.  5.2 2. ] Class: 2\n",
      "[6.7 3.  5.  1.7] Class: 1\n",
      "[6.1 2.9 4.7 1.4] Class: 1\n",
      "[5.9 3.  5.1 1.8] Class: 2\n",
      "[5.8 2.7 5.1 1.9] Class: 2\n"
     ]
    }
   ],
   "source": [
    "knn('c')"
   ]
  },
  {
   "cell_type": "markdown",
   "metadata": {},
   "source": [
    "## k-NN regression"
   ]
  },
  {
   "cell_type": "code",
   "execution_count": 4,
   "metadata": {},
   "outputs": [
    {
     "name": "stdout",
     "output_type": "stream",
     "text": [
      "MAE: 0.1634\n",
      "MSE: 0.04825799999999998\n",
      "Instance 124: [6.3, 2.7, 4.9]\n",
      "Actual class: 1.8\n",
      "Predicted class: [1.6300000000000001]\n",
      "Neighbours:\n",
      "[6.3 2.8 5.1] Class: 1.5\n",
      "[6.1 2.8 4.7] Class: 1.2\n",
      "[6.1 2.9 4.7] Class: 1.4\n",
      "[6.  2.7 5.1] Class: 1.6\n",
      "[6.1 3.  4.9] Class: 1.8\n",
      "[6.5 2.8 4.6] Class: 1.5\n",
      "[6.  3.  4.8] Class: 1.8\n",
      "[6.5 3.  5.2] Class: 2.0\n",
      "[6.7 3.  5. ] Class: 1.7\n",
      "[5.9 3.  5.1] Class: 1.8\n"
     ]
    }
   ],
   "source": [
    "knn('r') #knn_regression"
   ]
  }
 ],
 "metadata": {
  "kernelspec": {
   "display_name": "Python 3",
   "language": "python",
   "name": "python3"
  },
  "language_info": {
   "codemirror_mode": {
    "name": "ipython",
    "version": 3
   },
   "file_extension": ".py",
   "mimetype": "text/x-python",
   "name": "python",
   "nbconvert_exporter": "python",
   "pygments_lexer": "ipython3",
   "version": "3.7.4"
  }
 },
 "nbformat": 4,
 "nbformat_minor": 2
}
