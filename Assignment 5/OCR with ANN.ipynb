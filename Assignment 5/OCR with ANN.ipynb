{
 "cells": [
  {
   "cell_type": "code",
   "execution_count": 1,
   "metadata": {},
   "outputs": [],
   "source": [
    "import tools\n",
    "images, data, target = tools.load_data()\n",
    "\n",
    "scaler, data = tools.scale(data)\n",
    "pca, feature_reduced_data = tools.reduce(data, 40)"
   ]
  },
  {
   "cell_type": "code",
   "execution_count": 2,
   "metadata": {},
   "outputs": [],
   "source": [
    "from sklearn.model_selection import train_test_split\n",
    "X_train, X_test, y_train, y_test = train_test_split(feature_reduced_data, target, test_size=0.2, random_state=10)"
   ]
  },
  {
   "cell_type": "code",
   "execution_count": 4,
   "metadata": {},
   "outputs": [
    {
     "name": "stdout",
     "output_type": "stream",
     "text": [
      "Train accuracy: 1.0\n",
      "Test accuracy: 0.8348559381588194\n",
      "{'alpha': 1e-05, 'hidden_layer_sizes': 1000}\n"
     ]
    }
   ],
   "source": [
    "from sklearn.model_selection import GridSearchCV\n",
    "params = {'hidden_layer_sizes': [pow(10,x) for x in range(4)], 'alpha': [0.01,0.001, 0.0001, 0.00001]}\n",
    "\n",
    "cv = GridSearchCV(param_grid=params, estimator=MLPClassifier(random_state=10), cv=10, n_jobs=-1)\n",
    "cv.fit(X_train, y_train)\n",
    "\n",
    "print(\"Train accuracy:\", cv.score(X_train, y_train))\n",
    "print(\"Test accuracy:\", cv.score(X_test, y_test))\n",
    "\n",
    "print(cv.best_params_)"
   ]
  },
  {
   "cell_type": "code",
   "execution_count": 3,
   "metadata": {},
   "outputs": [
    {
     "name": "stdout",
     "output_type": "stream",
     "text": [
      "Train accuracy: 1.0\n",
      "Test accuracy: 0.8383696416022488\n"
     ]
    }
   ],
   "source": [
    "from sklearn.neural_network import MLPClassifier\n",
    "clf = MLPClassifier(hidden_layer_sizes=1000,alpha=0.001, max_iter=1000)\n",
    "clf.fit(X_train, y_train)\n",
    "print(\"Train accuracy:\",clf.score(X_train, y_train))\n",
    "print(\"Test accuracy:\",clf.score(X_test, y_test))\n",
    "\n",
    "import numpy as np\n",
    "preds = clf.predict_proba(feature_reduced_data)\n",
    "preds_idx = np.argsort(-preds, axis = 1)"
   ]
  },
  {
   "cell_type": "code",
   "execution_count": 5,
   "metadata": {},
   "outputs": [
    {
     "name": "stdout",
     "output_type": "stream",
     "text": [
      "Prediction ['v']\n",
      "Actual class: z\n"
     ]
    },
    {
     "data": {
      "image/png": "[encoded data removed]",
      "text/plain": [
       "<Figure size 432x288 with 1 Axes>"
      ]
     },
     "metadata": {
      "needs_background": "light"
     },
     "output_type": "display_data"
    },
    {
     "name": "stdout",
     "output_type": "stream",
     "text": [
      "Top 5 predictions:\n",
      "v => 40.57%\n",
      "y => 24.86%\n",
      "q => 23.24%\n",
      "z => 8.89%\n",
      "x => 0.97%\n"
     ]
    }
   ],
   "source": [
    "import matplotlib.pyplot as plt\n",
    "image = -50\n",
    "print(\"Prediction\",clf.predict([feature_reduced_data[image]]))\n",
    "print(\"Actual class:\",target[image])\n",
    "plt.imshow(images[image])\n",
    "plt.show()\n",
    "\n",
    "print(\"Top 5 predictions:\")\n",
    "for p in preds_idx[image][:5]:\n",
    "    print(clf.classes_[p],\"=>\",str(round(preds[image][p]*100,2))+'%')"
   ]
  }
 ],
 "metadata": {
  "kernelspec": {
   "display_name": "Python 3",
   "language": "python",
   "name": "python3"
  },
  "language_info": {
   "codemirror_mode": {
    "name": "ipython",
    "version": 3
   },
   "file_extension": ".py",
   "mimetype": "text/x-python",
   "name": "python",
   "nbconvert_exporter": "python",
   "pygments_lexer": "ipython3",
   "version": "3.7.4"
  }
 },
 "nbformat": 4,
 "nbformat_minor": 2
}
