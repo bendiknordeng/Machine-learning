{
 "cells": [
  {
   "cell_type": "code",
   "execution_count": 1,
   "metadata": {},
   "outputs": [],
   "source": [
    "import tools\n",
    "\n",
    "images, data, target = tools.load_data()"
   ]
  },
  {
   "cell_type": "code",
   "execution_count": 2,
   "metadata": {},
   "outputs": [],
   "source": [
    "scaler, data = tools.scale(data)\n",
    "pca, feature_reduced_data = tools.reduce(data, 40)"
   ]
  },
  {
   "cell_type": "code",
   "execution_count": 3,
   "metadata": {},
   "outputs": [],
   "source": [
    "from sklearn.model_selection import train_test_split\n",
    "X_train, X_test, y_train, y_test = train_test_split(feature_reduced_data, target, test_size=0.2, random_state=10)"
   ]
  },
  {
   "cell_type": "code",
   "execution_count": 4,
   "metadata": {},
   "outputs": [
    {
     "name": "stderr",
     "output_type": "stream",
     "text": [
      "/Library/Frameworks/Python.framework/Versions/3.7/lib/python3.7/site-packages/sklearn/model_selection/_search.py:814: DeprecationWarning: The default of the `iid` parameter will change from True to False in version 0.22 and will be removed in 0.24. This will change numeric results when test-set sizes are unequal.\n",
      "  DeprecationWarning)\n"
     ]
    },
    {
     "name": "stdout",
     "output_type": "stream",
     "text": [
      "Train accuracy: 0.9360168746704166\n",
      "Test accuracy: 0.7955024595924104\n",
      "{'C': 10, 'gamma': 0.001}\n"
     ]
    }
   ],
   "source": [
    "from sklearn.model_selection import GridSearchCV\n",
    "from sklearn import svm\n",
    "params = {'C': [pow(10,x) for x in range(-1,3)], 'gamma': [0.01,0.001, 0.0001, 0.00001]}\n",
    "\n",
    "cv = GridSearchCV(param_grid=params, estimator=svm.SVC(random_state=10), cv=10, n_jobs=-1)\n",
    "cv.fit(X_train, y_train)\n",
    "\n",
    "print(\"Train accuracy:\", cv.score(X_train, y_train))\n",
    "print(\"Test accuracy:\", cv.score(X_test, y_test))\n",
    "\n",
    "print(cv.best_params_)"
   ]
  },
  {
   "cell_type": "code",
   "execution_count": 5,
   "metadata": {},
   "outputs": [
    {
     "data": {
      "text/plain": [
       "0.7955024595924104"
      ]
     },
     "execution_count": 5,
     "metadata": {},
     "output_type": "execute_result"
    }
   ],
   "source": [
    "clf = svm.SVC(gamma = 0.001, C=10, probability=True)\n",
    "clf.fit(X_train, y_train)\n",
    "clf.score(X_test, y_test)"
   ]
  },
  {
   "cell_type": "code",
   "execution_count": 6,
   "metadata": {},
   "outputs": [],
   "source": [
    "import numpy as np\n",
    "preds = clf.predict_proba(feature_reduced_data)\n",
    "preds_idx = np.argsort(-preds, axis = 1)"
   ]
  },
  {
   "cell_type": "code",
   "execution_count": 7,
   "metadata": {},
   "outputs": [
    {
     "name": "stdout",
     "output_type": "stream",
     "text": [
      "t ( 0.7042593213071666 )\n",
      "i ( 0.12862318329699216 )\n",
      "y ( 0.06286464651053333 )\n",
      "l ( 0.02112953994605675 )\n",
      "j ( 0.014236119675780106 )\n",
      "r ( 0.008828598083954949 )\n",
      "e ( 0.008813536493525207 )\n",
      "q ( 0.008218116791163297 )\n",
      "f ( 0.005379943155840412 )\n",
      "p ( 0.004931243816175124 )\n",
      "a ( 0.004658872554805817 )\n",
      "z ( 0.003835433827101938 )\n",
      "k ( 0.002962211308433717 )\n",
      "s ( 0.0026825327643262777 )\n",
      "w ( 0.0023966274295516626 )\n",
      "b ( 0.002274133583648171 )\n",
      "o ( 0.0021496425808914476 )\n",
      "u ( 0.002096856570543721 )\n",
      "x ( 0.0017542088443007746 )\n",
      "d ( 0.0016832403942296675 )\n",
      "g ( 0.0016038702557738139 )\n",
      "c ( 0.0010838883528089716 )\n",
      "n ( 0.0010278549317238807 )\n",
      "h ( 0.0010088652860180919 )\n",
      "v ( 0.0008729856642978709 )\n",
      "m ( 0.0006245265743555851 )\n"
     ]
    }
   ],
   "source": [
    "for p in preds_idx[-1000]:\n",
    "    print(clf.classes_[p],\"(\",preds[-1000][p],\")\")"
   ]
  }
 ],
 "metadata": {
  "kernelspec": {
   "display_name": "Python 3",
   "language": "python",
   "name": "python3"
  },
  "language_info": {
   "codemirror_mode": {
    "name": "ipython",
    "version": 3
   },
   "file_extension": ".py",
   "mimetype": "text/x-python",
   "name": "python",
   "nbconvert_exporter": "python",
   "pygments_lexer": "ipython3",
   "version": "3.7.4"
  }
 },
 "nbformat": 4,
 "nbformat_minor": 2
}
