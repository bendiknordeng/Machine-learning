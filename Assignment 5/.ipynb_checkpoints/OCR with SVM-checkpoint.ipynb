{
 "cells": [
  {
   "cell_type": "code",
   "execution_count": 9,
   "metadata": {},
   "outputs": [],
   "source": [
    "import tools\n",
    "\n",
    "images, data, target = tools.load_data()"
   ]
  },
  {
   "cell_type": "code",
   "execution_count": 10,
   "metadata": {},
   "outputs": [],
   "source": [
    "data = tools.scale(data)\n",
    "feature_reduced_data = tools.reduce(data, 40)"
   ]
  },
  {
   "cell_type": "code",
   "execution_count": 11,
   "metadata": {},
   "outputs": [],
   "source": [
    "from sklearn.model_selection import train_test_split\n",
    "X_train, X_test, y_train, y_test = train_test_split(feature_reduced_data, target, test_size=0.2, random_state=10)"
   ]
  },
  {
   "cell_type": "code",
   "execution_count": 17,
   "metadata": {},
   "outputs": [
    {
     "name": "stderr",
     "output_type": "stream",
     "text": [
      "/Library/Frameworks/Python.framework/Versions/3.7/lib/python3.7/site-packages/sklearn/model_selection/_search.py:814: DeprecationWarning: The default of the `iid` parameter will change from True to False in version 0.22 and will be removed in 0.24. This will change numeric results when test-set sizes are unequal.\n",
      "  DeprecationWarning)\n"
     ]
    },
    {
     "name": "stdout",
     "output_type": "stream",
     "text": [
      "Train accuracy: 0.9363684303040957\n",
      "Test accuracy: 0.7926914968376669\n",
      "{'C': 10, 'gamma': 0.001}\n"
     ]
    }
   ],
   "source": [
    "from sklearn.model_selection import GridSearchCV\n",
    "from sklearn import svm\n",
    "params = {'C': [pow(10,x) for x in range(-1,3)], 'gamma': [0.01,0.001, 0.0001, 0.00001]}\n",
    "\n",
    "cv = GridSearchCV(param_grid=params, estimator=svm.SVC(random_state=10), cv=10, n_jobs=-1)\n",
    "cv.fit(X_train, y_train)\n",
    "\n",
    "print(\"Train accuracy:\", cv.score(X_train, y_train))\n",
    "print(\"Test accuracy:\", cv.score(X_test, y_test))\n",
    "\n",
    "print(cv.best_params_)"
   ]
  },
  {
   "cell_type": "code",
   "execution_count": 18,
   "metadata": {},
   "outputs": [
    {
     "data": {
      "text/plain": [
       "0.7926914968376669"
      ]
     },
     "execution_count": 18,
     "metadata": {},
     "output_type": "execute_result"
    }
   ],
   "source": [
    "clf = svm.SVC(gamma = 0.001, C=10, probability=True)\n",
    "clf.fit(X_train, y_train)\n",
    "clf.score(X_test, y_test)"
   ]
  },
  {
   "cell_type": "code",
   "execution_count": 14,
   "metadata": {},
   "outputs": [],
   "source": [
    "import numpy as np\n",
    "preds = clf.predict_proba(feature_reduced_data)\n",
    "preds_idx = np.argsort(-preds, axis = 1)"
   ]
  },
  {
   "cell_type": "code",
   "execution_count": 15,
   "metadata": {},
   "outputs": [
    {
     "name": "stdout",
     "output_type": "stream",
     "text": [
      "t ( 0.8103585681836347 )\n",
      "y ( 0.08299375905936605 )\n",
      "i ( 0.07420760585213318 )\n",
      "l ( 0.011352106069713591 )\n",
      "f ( 0.005382210591532751 )\n",
      "j ( 0.0017773863264597266 )\n",
      "r ( 0.0014304441998378222 )\n",
      "z ( 0.0012591114242333531 )\n",
      "e ( 0.0010640881281933068 )\n",
      "q ( 0.001041981301409194 )\n",
      "p ( 0.0010386443961111819 )\n",
      "k ( 0.0009625426872474165 )\n",
      "v ( 0.0007727126274796602 )\n",
      "a ( 0.0006877655399687541 )\n",
      "u ( 0.0006761272556618212 )\n",
      "s ( 0.0006751877773339886 )\n",
      "x ( 0.0005957404795653257 )\n",
      "w ( 0.0005372683965804654 )\n",
      "n ( 0.0005020911891632503 )\n",
      "o ( 0.0004450492497682145 )\n",
      "d ( 0.00041773378463472286 )\n",
      "h ( 0.0004027182819433054 )\n",
      "c ( 0.000390550492056135 )\n",
      "b ( 0.000382832642103449 )\n",
      "g ( 0.00035017569836540087 )\n",
      "m ( 0.00029559836550282 )\n"
     ]
    }
   ],
   "source": [
    "for p in preds_idx[-1000]:\n",
    "    print(clf.classes_[p],\"(\",preds[-1000][p],\")\")"
   ]
  }
 ],
 "metadata": {
  "kernelspec": {
   "display_name": "Python 3",
   "language": "python",
   "name": "python3"
  },
  "language_info": {
   "codemirror_mode": {
    "name": "ipython",
    "version": 3
   },
   "file_extension": ".py",
   "mimetype": "text/x-python",
   "name": "python",
   "nbconvert_exporter": "python",
   "pygments_lexer": "ipython3",
   "version": "3.7.4"
  }
 },
 "nbformat": 4,
 "nbformat_minor": 2
}
