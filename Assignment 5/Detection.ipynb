{
 "cells": [
  {
   "cell_type": "code",
   "execution_count": 1,
   "metadata": {},
   "outputs": [],
   "source": [
    "import numpy as np\n",
    "import tools\n",
    "import matplotlib.pyplot as plt"
   ]
  },
  {
   "cell_type": "code",
   "execution_count": 2,
   "metadata": {},
   "outputs": [],
   "source": [
    "images, data, target = tools.load_data()"
   ]
  },
  {
   "cell_type": "code",
   "execution_count": 3,
   "metadata": {},
   "outputs": [],
   "source": [
    "scaler, data = tools.scale(data)\n",
    "pca, feature_reduced_data = tools.reduce(data,40)\n",
    "from sklearn.model_selection import train_test_split\n",
    "X_train, X_test, y_train, y_test = train_test_split(feature_reduced_data, target, test_size=0.2, random_state=10)\n",
    "clf = tools.ANN(X_train,y_train)"
   ]
  },
  {
   "cell_type": "code",
   "execution_count": 29,
   "metadata": {},
   "outputs": [
    {
     "data": {
      "image/png": "[encoded data removed]",
      "text/plain": [
       "<Figure size 432x288 with 1 Axes>"
      ]
     },
     "metadata": {
      "needs_background": "light"
     },
     "output_type": "display_data"
    }
   ],
   "source": [
    "img = plt.imread('data/detection-images/detection-1.jpg')[50:150,20:220]\n",
    "plt.imshow(img, cmap='gray', interpolation=\"nearest\")\n",
    "plt.show()"
   ]
  },
  {
   "cell_type": "code",
   "execution_count": 30,
   "metadata": {},
   "outputs": [],
   "source": [
    "def flatten_img(image):\n",
    "    return [float(i) for line in image for i in line]\n",
    "\n",
    "def sliding_window(image, stepSize, windowSize):\n",
    "    windows = []\n",
    "    flattened = []\n",
    "    # slide a window across the image\n",
    "    for y in range(0, image.shape[0], stepSize[1]):\n",
    "        for x in range(0, image.shape[1], stepSize[0]):\n",
    "            window = img[y:(y+windowSize[1]),x:(x+windowSize[0])]\n",
    "            flat = flatten_img(window)\n",
    "            unique, counts = np.unique(flat, return_counts=True)\n",
    "            if dict(zip(unique, counts))[255.0] < 200: # Large parts of window white\n",
    "                windows.append(window)\n",
    "                flattened.append(flat)\n",
    "    return np.array(windows), np.array(flattened)"
   ]
  },
  {
   "cell_type": "code",
   "execution_count": 31,
   "metadata": {},
   "outputs": [
    {
     "name": "stdout",
     "output_type": "stream",
     "text": [
      "(4, 20, 20)\n"
     ]
    }
   ],
   "source": [
    "windows, flattened = sliding_window(img,[20,20],[20,20])\n",
    "print(windows.shape)"
   ]
  },
  {
   "cell_type": "code",
   "execution_count": 36,
   "metadata": {},
   "outputs": [
    {
     "data": {
      "image/png": "[encoded data removed]",
      "text/plain": [
       "<Figure size 432x288 with 4 Axes>"
      ]
     },
     "metadata": {
      "needs_background": "light"
     },
     "output_type": "display_data"
    }
   ],
   "source": [
    "dim = [2,2]\n",
    "fig, axs = plt.subplots(dim[0], dim[1])\n",
    "count = 0\n",
    "for i in range(dim[0]):\n",
    "    for j in range(dim[1]):\n",
    "        if dim[0] == 1:\n",
    "            axs[j].imshow(windows[count])\n",
    "            axs[j].label_outer()\n",
    "        else:        \n",
    "            axs[i,j].imshow(windows[count])\n",
    "            axs[i,j].label_outer()\n",
    "        count+=1\n",
    "plt.show()"
   ]
  },
  {
   "cell_type": "code",
   "execution_count": 33,
   "metadata": {},
   "outputs": [],
   "source": [
    "scaled_windows = scaler.transform(flattened)\n",
    "reduced_windows = pca.transform(scaled_windows)"
   ]
  },
  {
   "cell_type": "code",
   "execution_count": 34,
   "metadata": {},
   "outputs": [
    {
     "name": "stdout",
     "output_type": "stream",
     "text": [
      "Predictions for image 1:\n",
      "n => 56.81%\n",
      "h => 27.78%\n",
      "r => 9.07%\n",
      "a => 2.85%\n",
      "i => 2.11%\n",
      "Predictions for image 2:\n",
      "s => 96.91%\n",
      "r => 0.89%\n",
      "k => 0.52%\n",
      "p => 0.52%\n",
      "a => 0.4%\n",
      "Predictions for image 3:\n",
      "l => 79.97%\n",
      "v => 5.71%\n",
      "e => 5.37%\n",
      "j => 3.2%\n",
      "r => 2.14%\n",
      "Predictions for image 4:\n",
      "j => 99.99%\n",
      "a => 0.01%\n",
      "l => 0.0%\n",
      "n => 0.0%\n",
      "t => 0.0%\n",
      "['n', 's', 'l', 'j']\n"
     ]
    }
   ],
   "source": [
    "word = []\n",
    "for i in range(len(reduced_windows)):\n",
    "    word.append(clf.predict([reduced_windows[i]])[0])\n",
    "    preds = tools.top_predictions(clf,reduced_windows,i,5)\n",
    "    print(\"Predictions for image \"+str(i+1)+\":\")\n",
    "    for p in preds:\n",
    "        print(p[0],\"=>\",p[1])\n",
    "print(word)"
   ]
  }
 ],
 "metadata": {
  "kernelspec": {
   "display_name": "Python 3",
   "language": "python",
   "name": "python3"
  },
  "language_info": {
   "codemirror_mode": {
    "name": "ipython",
    "version": 3
   },
   "file_extension": ".py",
   "mimetype": "text/x-python",
   "name": "python",
   "nbconvert_exporter": "python",
   "pygments_lexer": "ipython3",
   "version": "3.7.4"
  }
 },
 "nbformat": 4,
 "nbformat_minor": 2
}
