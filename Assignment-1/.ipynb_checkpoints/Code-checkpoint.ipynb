{
 "cells": [
  {
   "cell_type": "code",
   "execution_count": 1,
   "metadata": {},
   "outputs": [],
   "source": [
    "import numpy as np\n",
    "import matplotlib.pyplot as plt\n",
    "import pandas as pd"
   ]
  },
  {
   "cell_type": "markdown",
   "metadata": {},
   "source": [
    "## Task 1"
   ]
  },
  {
   "cell_type": "code",
   "execution_count": 2,
   "metadata": {},
   "outputs": [],
   "source": [
    "def load_csv(filepath):\n",
    "    df = pd.read_csv(filepath)\n",
    "    df.insert(loc=0, column='x0', value=np.ones(len(df)))\n",
    "    return df.loc[:, df.columns != 'y'].values, df['y'].values\n",
    "\n",
    "def mse(y, y_pred):\n",
    "    return np.mean((y_pred - y)**2)\n",
    "\n",
    "def linear_regression(X, y):\n",
    "    return np.linalg.pinv(X.T.dot(X)).dot(X.T).dot(y)"
   ]
  },
  {
   "cell_type": "markdown",
   "metadata": {},
   "source": [
    "## Task 2"
   ]
  },
  {
   "cell_type": "code",
   "execution_count": 3,
   "metadata": {},
   "outputs": [
    {
     "name": "stdout",
     "output_type": "stream",
     "text": [
      "w0: 0.24079270870924657\tw1: 0.4815568550719211\tw2: 0.05864390258297314\n",
      "\n",
      "Mean Squared Error (MSE)\n",
      "MSE_training: 0.010386850731462317\tMSE_test: 0.009529764450619004\n"
     ]
    }
   ],
   "source": [
    "X_train, y_train = load_csv('dataset/regression/train_2d_reg_data.csv')\n",
    "X_test, y_test = load_csv('dataset/regression/test_2d_reg_data.csv')\n",
    "w_train = linear_regression(X_train, y_train)\n",
    "training_error = mse(X_train.dot(w_train), y_train)\n",
    "test_error = mse(X_test.dot(w_train), y_test)\n",
    "\n",
    "print(\"w0: \" + str(w_train[0]) + \"\\tw1: \" + str(w_train[1]) + \"\\tw2: \" + str(w_train[2]))\n",
    "print(\"\\nMean Squared Error (MSE)\")\n",
    "print(\"MSE_training: \" + str(training_error) + \"\\tMSE_test: \" + str(test_error))"
   ]
  },
  {
   "cell_type": "markdown",
   "metadata": {},
   "source": [
    "As we can see, the model generalizes quite well. The MSE for the training- and the test data are relatively equal. Hence, there is no clear signs of neither over- nor underfitting."
   ]
  },
  {
   "cell_type": "markdown",
   "metadata": {},
   "source": [
    "## Task 3"
   ]
  },
  {
   "cell_type": "code",
   "execution_count": 4,
   "metadata": {},
   "outputs": [
    {
     "name": "stdout",
     "output_type": "stream",
     "text": [
      "w0: 0.19558660470155004\tw1: 0.6128879513156789\n",
      "\n",
      "Mean Squared Error (MSE)\n",
      "MSE_training: 0.013758791126537117\tMSE_test: 0.012143754475727526\n"
     ]
    },
    {
     "data": {
      "image/png": "[encoded data removed]",
      "text/plain": [
       "<Figure size 432x288 with 1 Axes>"
      ]
     },
     "metadata": {
      "needs_background": "light"
     },
     "output_type": "display_data"
    }
   ],
   "source": [
    "X_train, y_train = load_csv('dataset/regression/train_1d_reg_data.csv')\n",
    "X_test, y_test = load_csv('dataset/regression/test_1d_reg_data.csv')\n",
    "w_train = linear_regression(X_train, y_train)\n",
    "w_test = linear_regression(X_test, y_test)\n",
    "training_error = mse(X_train.dot(w_train), y_train)\n",
    "test_error = mse(X_test.dot(w_test), y_test)\n",
    "\n",
    "print(\"w0: \" + str(w_train[0]) + \"\\tw1: \" + str(w_train[1]))\n",
    "print(\"\\nMean Squared Error (MSE)\")\n",
    "print(\"MSE_training: \" + str(training_error) + \"\\tMSE_test: \" + str(test_error))\n",
    "\n",
    "x_point = X_test[:, -1]\n",
    "y_point = y_test\n",
    "x_axes = np.linspace(0,1,100)\n",
    "line = w_train[1]*x_axes + w_train[0]\n",
    "plt.scatter(x_point, y_point)\n",
    "plt.plot(x_axes, line, '-r', label= 'y=' + str(w_train[1]) + \"x +\" + str(w_train[0]))\n",
    "plt.legend(loc='upper left')\n",
    "plt.xlabel(\"x\")\n",
    "plt.ylabel(\"y\")\n",
    "plt.show()"
   ]
  },
  {
   "cell_type": "markdown",
   "metadata": {},
   "source": [
    "The line seem to fit the datapoints relatively well. As we can see from the scatterplot, the data contains a fair bit of variance. Some error could have been remedied by adding some dimensions to the training data, but this might result in overfitting."
   ]
  }
 ],
 "metadata": {
  "kernelspec": {
   "display_name": "Python 3",
   "language": "python",
   "name": "python3"
  },
  "language_info": {
   "codemirror_mode": {
    "name": "ipython",
    "version": 3
   },
   "file_extension": ".py",
   "mimetype": "text/x-python",
   "name": "python",
   "nbconvert_exporter": "python",
   "pygments_lexer": "ipython3",
   "version": "3.7.1"
  }
 },
 "nbformat": 4,
 "nbformat_minor": 2
}
